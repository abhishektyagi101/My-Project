{
 "cells": [
  {
   "cell_type": "markdown",
   "metadata": {},
   "source": [
    "# Predict Bollywood movie success"
   ]
  },
  {
   "cell_type": "code",
   "execution_count": 1,
   "metadata": {},
   "outputs": [],
   "source": [
    "import warnings\n",
    "warnings.filterwarnings('ignore')\n",
    "import numpy as np\n",
    "import pandas as pd\n",
    "data = pd.read_csv(\"BollywoodBoxOfficeSuccess.csv\", encoding=\"cp1252\")"
   ]
  },
  {
   "cell_type": "code",
   "execution_count": 2,
   "metadata": {},
   "outputs": [
    {
     "data": {
      "text/plain": [
       "Index(['Movie_Name', 'Release_Date(N/LW/Festive)', 'Genre-Defind',\n",
       "       'Movie_Content', 'Dir_CAT', 'LEAD_ACTOR_CAT', 'Item_Song(Y/N)',\n",
       "       'Production_House_CAT', 'Music_Dir_CAT', 'Box_Office_Collection',\n",
       "       'Profit', 'Earning_Ratio', 'Budget', 'Youtube_Views', 'Youtube_Likes',\n",
       "       'Youtube_Dislikes', 'Success/Faliure'],\n",
       "      dtype='object')"
      ]
     },
     "execution_count": 2,
     "metadata": {},
     "output_type": "execute_result"
    }
   ],
   "source": [
    "data.columns"
   ]
  },
  {
   "cell_type": "code",
   "execution_count": 3,
   "metadata": {},
   "outputs": [],
   "source": [
    "data.drop('Movie_Name', axis = 1, inplace=True)"
   ]
  },
  {
   "cell_type": "code",
   "execution_count": 4,
   "metadata": {},
   "outputs": [],
   "source": [
    "demo = pd.get_dummies(data, drop_first = True)"
   ]
  },
  {
   "cell_type": "code",
   "execution_count": 5,
   "metadata": {},
   "outputs": [
    {
     "data": {
      "text/html": [
       "<div>\n",
       "<style scoped>\n",
       "    .dataframe tbody tr th:only-of-type {\n",
       "        vertical-align: middle;\n",
       "    }\n",
       "\n",
       "    .dataframe tbody tr th {\n",
       "        vertical-align: top;\n",
       "    }\n",
       "\n",
       "    .dataframe thead th {\n",
       "        text-align: right;\n",
       "    }\n",
       "</style>\n",
       "<table border=\"1\" class=\"dataframe\">\n",
       "  <thead>\n",
       "    <tr style=\"text-align: right;\">\n",
       "      <th></th>\n",
       "      <th>Item_Song(Y/N)</th>\n",
       "      <th>Box_Office_Collection</th>\n",
       "      <th>Profit</th>\n",
       "      <th>Earning_Ratio</th>\n",
       "      <th>Budget</th>\n",
       "      <th>Youtube_Views</th>\n",
       "      <th>Youtube_Likes</th>\n",
       "      <th>Youtube_Dislikes</th>\n",
       "      <th>Success/Faliure</th>\n",
       "      <th>Release_Date(N/LW/Festive)_HS</th>\n",
       "      <th>...</th>\n",
       "      <th>Movie_Content_Satire</th>\n",
       "      <th>Movie_Content_Social Subject</th>\n",
       "      <th>Dir_CAT_B</th>\n",
       "      <th>Dir_CAT_LK</th>\n",
       "      <th>LEAD_ACTOR_CAT_B</th>\n",
       "      <th>LEAD_ACTOR_CAT_LK</th>\n",
       "      <th>Production_House_CAT_B</th>\n",
       "      <th>Production_House_CAT_LK</th>\n",
       "      <th>Music_Dir_CAT_B</th>\n",
       "      <th>Music_Dir_CAT_LK</th>\n",
       "    </tr>\n",
       "  </thead>\n",
       "  <tbody>\n",
       "    <tr>\n",
       "      <th>0</th>\n",
       "      <td>1</td>\n",
       "      <td>27</td>\n",
       "      <td>15</td>\n",
       "      <td>2.30</td>\n",
       "      <td>12</td>\n",
       "      <td>13798789</td>\n",
       "      <td>15708</td>\n",
       "      <td>5226</td>\n",
       "      <td>1</td>\n",
       "      <td>0</td>\n",
       "      <td>...</td>\n",
       "      <td>0</td>\n",
       "      <td>0</td>\n",
       "      <td>0</td>\n",
       "      <td>1</td>\n",
       "      <td>0</td>\n",
       "      <td>1</td>\n",
       "      <td>0</td>\n",
       "      <td>0</td>\n",
       "      <td>1</td>\n",
       "      <td>0</td>\n",
       "    </tr>\n",
       "    <tr>\n",
       "      <th>1</th>\n",
       "      <td>1</td>\n",
       "      <td>25</td>\n",
       "      <td>7</td>\n",
       "      <td>1.39</td>\n",
       "      <td>18</td>\n",
       "      <td>8788913</td>\n",
       "      <td>18907</td>\n",
       "      <td>2940</td>\n",
       "      <td>0</td>\n",
       "      <td>0</td>\n",
       "      <td>...</td>\n",
       "      <td>0</td>\n",
       "      <td>0</td>\n",
       "      <td>0</td>\n",
       "      <td>1</td>\n",
       "      <td>1</td>\n",
       "      <td>0</td>\n",
       "      <td>0</td>\n",
       "      <td>1</td>\n",
       "      <td>1</td>\n",
       "      <td>0</td>\n",
       "    </tr>\n",
       "    <tr>\n",
       "      <th>2</th>\n",
       "      <td>0</td>\n",
       "      <td>14</td>\n",
       "      <td>-6</td>\n",
       "      <td>0.70</td>\n",
       "      <td>20</td>\n",
       "      <td>6698987</td>\n",
       "      <td>6750</td>\n",
       "      <td>2234</td>\n",
       "      <td>0</td>\n",
       "      <td>0</td>\n",
       "      <td>...</td>\n",
       "      <td>0</td>\n",
       "      <td>0</td>\n",
       "      <td>0</td>\n",
       "      <td>1</td>\n",
       "      <td>0</td>\n",
       "      <td>1</td>\n",
       "      <td>0</td>\n",
       "      <td>1</td>\n",
       "      <td>0</td>\n",
       "      <td>1</td>\n",
       "    </tr>\n",
       "    <tr>\n",
       "      <th>3</th>\n",
       "      <td>0</td>\n",
       "      <td>32</td>\n",
       "      <td>19</td>\n",
       "      <td>2.47</td>\n",
       "      <td>13</td>\n",
       "      <td>5592977</td>\n",
       "      <td>15464</td>\n",
       "      <td>1513</td>\n",
       "      <td>1</td>\n",
       "      <td>0</td>\n",
       "      <td>...</td>\n",
       "      <td>0</td>\n",
       "      <td>0</td>\n",
       "      <td>0</td>\n",
       "      <td>1</td>\n",
       "      <td>0</td>\n",
       "      <td>0</td>\n",
       "      <td>0</td>\n",
       "      <td>1</td>\n",
       "      <td>1</td>\n",
       "      <td>0</td>\n",
       "    </tr>\n",
       "    <tr>\n",
       "      <th>4</th>\n",
       "      <td>0</td>\n",
       "      <td>22</td>\n",
       "      <td>-27</td>\n",
       "      <td>0.45</td>\n",
       "      <td>48</td>\n",
       "      <td>5192338</td>\n",
       "      <td>6928</td>\n",
       "      <td>1120</td>\n",
       "      <td>0</td>\n",
       "      <td>0</td>\n",
       "      <td>...</td>\n",
       "      <td>0</td>\n",
       "      <td>0</td>\n",
       "      <td>0</td>\n",
       "      <td>1</td>\n",
       "      <td>0</td>\n",
       "      <td>0</td>\n",
       "      <td>0</td>\n",
       "      <td>0</td>\n",
       "      <td>1</td>\n",
       "      <td>0</td>\n",
       "    </tr>\n",
       "  </tbody>\n",
       "</table>\n",
       "<p>5 rows × 32 columns</p>\n",
       "</div>"
      ],
      "text/plain": [
       "   Item_Song(Y/N)  Box_Office_Collection  Profit  Earning_Ratio  Budget  \\\n",
       "0               1                     27      15           2.30      12   \n",
       "1               1                     25       7           1.39      18   \n",
       "2               0                     14      -6           0.70      20   \n",
       "3               0                     32      19           2.47      13   \n",
       "4               0                     22     -27           0.45      48   \n",
       "\n",
       "   Youtube_Views  Youtube_Likes  Youtube_Dislikes  Success/Faliure  \\\n",
       "0       13798789          15708              5226                1   \n",
       "1        8788913          18907              2940                0   \n",
       "2        6698987           6750              2234                0   \n",
       "3        5592977          15464              1513                1   \n",
       "4        5192338           6928              1120                0   \n",
       "\n",
       "   Release_Date(N/LW/Festive)_HS  ...  Movie_Content_Satire   \\\n",
       "0                              0  ...                      0   \n",
       "1                              0  ...                      0   \n",
       "2                              0  ...                      0   \n",
       "3                              0  ...                      0   \n",
       "4                              0  ...                      0   \n",
       "\n",
       "   Movie_Content_Social Subject  Dir_CAT_B  Dir_CAT_LK  LEAD_ACTOR_CAT_B  \\\n",
       "0                             0          0           1                 0   \n",
       "1                             0          0           1                 1   \n",
       "2                             0          0           1                 0   \n",
       "3                             0          0           1                 0   \n",
       "4                             0          0           1                 0   \n",
       "\n",
       "   LEAD_ACTOR_CAT_LK  Production_House_CAT_B  Production_House_CAT_LK  \\\n",
       "0                  1                       0                        0   \n",
       "1                  0                       0                        1   \n",
       "2                  1                       0                        1   \n",
       "3                  0                       0                        1   \n",
       "4                  0                       0                        0   \n",
       "\n",
       "   Music_Dir_CAT_B  Music_Dir_CAT_LK  \n",
       "0                1                 0  \n",
       "1                1                 0  \n",
       "2                0                 1  \n",
       "3                1                 0  \n",
       "4                1                 0  \n",
       "\n",
       "[5 rows x 32 columns]"
      ]
     },
     "execution_count": 5,
     "metadata": {},
     "output_type": "execute_result"
    }
   ],
   "source": [
    "demo.head()"
   ]
  },
  {
   "cell_type": "code",
   "execution_count": 6,
   "metadata": {},
   "outputs": [],
   "source": [
    "from sklearn import model_selection\n",
    "from sklearn.linear_model import LogisticRegression\n",
    "\n",
    "import numpy as np\n",
    "from sklearn.model_selection import train_test_split\n",
    "from sklearn.metrics import mean_squared_error,confusion_matrix, classification_report\n",
    "from sklearn import metrics"
   ]
  },
  {
   "cell_type": "code",
   "execution_count": 7,
   "metadata": {},
   "outputs": [],
   "source": [
    "import warnings\n",
    "warnings.filterwarnings('ignore')"
   ]
  },
  {
   "cell_type": "code",
   "execution_count": 8,
   "metadata": {},
   "outputs": [],
   "source": [
    "# To enable plotting graphs in Jupyter notebook\n",
    "%matplotlib inline \n",
    "import warnings\n",
    "warnings.simplefilter('ignore')\n",
    "\n",
    "import numpy as np\n",
    "\n",
    "import pandas as pd\n",
    "\n",
    "from sklearn.model_selection import train_test_split\n",
    "\n",
    "from sklearn.neighbors import KNeighborsClassifier\n",
    "\n",
    "from scipy.stats import zscore\n",
    "\n",
    "import seaborn as sns\n",
    "from sklearn.preprocessing import StandardScaler"
   ]
  },
  {
   "cell_type": "code",
   "execution_count": null,
   "metadata": {},
   "outputs": [],
   "source": [
    "sns.pairplot(demo,hue='Success/Faliure')"
   ]
  },
  {
   "cell_type": "code",
   "execution_count": 21,
   "metadata": {},
   "outputs": [
    {
     "name": "stdout",
     "output_type": "stream",
     "text": [
      "What is the Testing Accuracy\n",
      "0.7666666666666667\n",
      "What is the Training Accuracy\n",
      "0.8571428571428571\n"
     ]
    }
   ],
   "source": [
    "X = demo.drop('Success/Faliure', axis = 1)\n",
    "y = demo[['Success/Faliure']]\n",
    "sc=StandardScaler()\n",
    "X_train, X_test, y_train, y_test = train_test_split(X, y, test_size=0.20,random_state=4)\n",
    "knn=KNeighborsClassifier(n_neighbors=3)\n",
    "scaledX_train = sc.fit_transform(X_train)\n",
    "scaledX_test = sc.transform(X_test)\n",
    "knn.fit(scaledX_train,y_train)\n",
    "print(\"What is the Testing Accuracy\")\n",
    "print(knn.score(scaledX_test,y_test))\n",
    "print(\"What is the Training Accuracy\")\n",
    "print(knn.score(scaledX_train,y_train))"
   ]
  },
  {
   "cell_type": "code",
   "execution_count": 22,
   "metadata": {},
   "outputs": [
    {
     "data": {
      "image/png": "[encoded data removed]",
      "text/plain": [
       "<Figure size 432x288 with 1 Axes>"
      ]
     },
     "metadata": {
      "needs_background": "light"
     },
     "output_type": "display_data"
    }
   ],
   "source": [
    "from matplotlib import pyplot as plt\n",
    "import numpy as np\n",
    "\n",
    "neighbors = np.arange(1, 60)\n",
    "train_accuracy_plot = np.empty(len(neighbors))\n",
    "test_accuracy_plot = np.empty(len(neighbors))\n",
    "# Loop over different values of k\n",
    "for i, k in enumerate(neighbors):\n",
    "    train = []\n",
    "    test = []\n",
    "    for j in range(20):\n",
    "        X_train, X_test, y_train, y_test = train_test_split(X, y, test_size=0.20,random_state=j)\n",
    "        sc=StandardScaler()\n",
    "        scaledX_train = sc.fit_transform(X_train)\n",
    "        scaledX_test = sc.transform(X_test)\n",
    "        knn = KNeighborsClassifier(n_neighbors=k)\n",
    "        knn.fit(scaledX_train,y_train)\n",
    "        train.append(knn.score(scaledX_train,y_train))\n",
    "        test.append(knn.score(scaledX_test,y_test))\n",
    "    #Compute accuracy on the training set\n",
    "    train_accuracy_plot[i] = np.mean(train)\n",
    "    #Compute accuracy on the testing set\n",
    "    test_accuracy_plot[i] = np.mean(test)\n",
    "# Generate plot\n",
    "plt.title('k-NN: Varying Number of Neighbors')\n",
    "plt.plot(neighbors, test_accuracy_plot, label = 'Testing Accuracy')\n",
    "plt.plot(neighbors, train_accuracy_plot, label = 'Training Accuracy')\n",
    "plt.legend()\n",
    "plt.xlabel('Number of Neighbors')\n",
    "plt.ylabel('Accuracy')\n",
    "plt.show()"
   ]
  },
  {
   "cell_type": "code",
   "execution_count": 24,
   "metadata": {
    "scrolled": true
   },
   "outputs": [
    {
     "data": {
      "image/png": "[encoded data removed]",
      "text/plain": [
       "<Figure size 432x288 with 1 Axes>"
      ]
     },
     "metadata": {
      "needs_background": "light"
     },
     "output_type": "display_data"
    }
   ],
   "source": [
    "from matplotlib import pyplot as plt\n",
    "from sklearn.metrics import recall_score\n",
    "import numpy as np\n",
    "neighbors = np.arange(1, 60)\n",
    "recall_plot = np.empty(len(neighbors))\n",
    "# Loop over different values of k\n",
    "for i, k in enumerate(neighbors):\n",
    "    recall=[]\n",
    "    for j in range(20):\n",
    "        X_train, X_test, y_train, y_test = train_test_split(X, y, test_size=0.20,random_state=j)\n",
    "        sc=StandardScaler()\n",
    "        scaledX_train = sc.fit_transform(X_train)\n",
    "        scaledX_test = sc.transform(X_test)\n",
    "        knn = KNeighborsClassifier(n_neighbors=k)\n",
    "        knn.fit(scaledX_train,y_train)\n",
    "        predicted = knn.predict(scaledX_test)\n",
    "        recall.append(recall_score(y_test,predicted))\n",
    "    #Compute accuracy on the training set\n",
    "    recall_plot[i] = np.mean(recall)\n",
    "# Generate plot\n",
    "plt.title('k-NN: Varying Number of Neighbors')\n",
    "plt.plot(neighbors, recall_plot, label = 'Recall')\n",
    "plt.legend()\n",
    "plt.xlabel('Number of Neighbors')\n",
    "plt.ylabel('Recall')\n",
    "plt.show()"
   ]
  },
  {
   "cell_type": "code",
   "execution_count": 25,
   "metadata": {
    "scrolled": true
   },
   "outputs": [
    {
     "data": {
      "image/png": "[encoded data removed]",
      "text/plain": [
       "<Figure size 432x288 with 1 Axes>"
      ]
     },
     "metadata": {
      "needs_background": "light"
     },
     "output_type": "display_data"
    }
   ],
   "source": [
    "from matplotlib import pyplot as plt\n",
    "from sklearn.metrics import f1_score\n",
    "import numpy as np\n",
    "neighbors = np.arange(1, 60)\n",
    "f1_plot = np.empty(len(neighbors))\n",
    "# Loop over different values of k\n",
    "for i, k in enumerate(neighbors):\n",
    "    f1=[]\n",
    "    for j in range(20):\n",
    "        X_train, X_test, y_train, y_test = train_test_split(X, y, test_size=0.20,random_state=j)\n",
    "        sc=StandardScaler()\n",
    "        scaledX_train = sc.fit_transform(X_train)\n",
    "        scaledX_test = sc.transform(X_test)\n",
    "        knn = KNeighborsClassifier(n_neighbors=k)\n",
    "        knn.fit(scaledX_train,y_train)\n",
    "        predicted = knn.predict(scaledX_test)\n",
    "        f1.append(f1_score(y_test,predicted))\n",
    "    #Compute accuracy on the training set\n",
    "    f1_plot[i] = np.mean(f1)\n",
    "# Generate plot\n",
    "plt.title('k-NN: Varying Number of Neighbors')\n",
    "plt.plot(neighbors, f1_plot, label = 'f1')\n",
    "plt.legend()\n",
    "plt.xlabel('Number of Neighbors')\n",
    "plt.ylabel('f1')\n",
    "plt.show()"
   ]
  }
 ],
 "metadata": {
  "kernelspec": {
   "display_name": "Python 3",
   "language": "python",
   "name": "python3"
  },
  "language_info": {
   "codemirror_mode": {
    "name": "ipython",
    "version": 3
   },
   "file_extension": ".py",
   "mimetype": "text/x-python",
   "name": "python",
   "nbconvert_exporter": "python",
   "pygments_lexer": "ipython3",
   "version": "3.7.3"
  }
 },
 "nbformat": 4,
 "nbformat_minor": 2
}
