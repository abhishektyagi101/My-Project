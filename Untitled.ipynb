{
 "cells": [
  {
   "cell_type": "code",
   "execution_count": 3,
   "id": "entitled-lemon",
   "metadata": {},
   "outputs": [
    {
     "name": "stdout",
     "output_type": "stream",
     "text": [
      "PatentBulkData:[{'patentCaseMetadata': {'applicationNumberText': {'value': '02262037', 'electronicText': '02262037'}, 'partyBag': {}, 'applicationConfirmationNumber': '2421', 'businessEntityStatusCategory': 'UNDISCOUNTED', 'applicationStatusCategory': 'Patented File - (Old Case Added for File Tracking Purposes)', 'applicationStatusDate': 'Thu Aug 10 20:00:00 EDT 1995', 'officialFileLocationCategory': 'FILE REPOSITORY (FRANCONIA)', 'officialFileLocationDate': 'Mon Jul 15 20:00:00 EDT 1996', 'relatedDocumentData': {'parentDocumentDataOrChildDocumentData': [{'descriptionText': 'which is Pending claims the benefit of 02262037', 'applicationNumberText': '59997901', 'filingDate': '01-01-2018', 'childDocumentStatusCode': 'Pending', 'patentNumber': ''}, {'descriptionText': 'which is Pending claims the benefit of 02262037', 'applicationNumberText': '59997150', 'filingDate': '01-01-2018', 'childDocumentStatusCode': 'Pending', 'patentNumber': ''}, {'descriptionText': 'which is Pending claims the benefit of 02262037', 'applicationNumberText': '59596202', 'filingDate': '01-01-2018', 'childDocumentStatusCode': 'Pending', 'patentNumber': ''}, {'descriptionText': 'which is Pending claims the benefit of 02262037', 'applicationNumberText': '59966865', 'filingDate': '01-01-2018', 'childDocumentStatusCode': 'Pending', 'patentNumber': ''}, {'descriptionText': 'which is Pending claims the benefit of 02262037', 'applicationNumberText': '59966878', 'filingDate': '01-01-2018', 'childDocumentStatusCode': 'Pending', 'patentNumber': ''}, {'descriptionText': 'which is Pending claims the benefit of 02262037', 'applicationNumberText': '59973267', 'filingDate': '01-01-2018', 'childDocumentStatusCode': 'Pending', 'patentNumber': ''}, {'descriptionText': 'which is Pending claims the benefit of 02262037', 'applicationNumberText': '59966946', 'filingDate': '01-01-2018', 'childDocumentStatusCode': 'Pending', 'patentNumber': ''}, {'descriptionText': 'which is Pending claims the benefit of 02262037', 'applicationNumberText': '59971230', 'filingDate': '01-01-2018', 'childDocumentStatusCode': 'Pending', 'patentNumber': ''}, {'descriptionText': 'which is Pending claims the benefit of 02262037', 'applicationNumberText': '59972131', 'filingDate': '01-01-2018', 'childDocumentStatusCode': 'Pending', 'patentNumber': ''}, {'descriptionText': 'which is Pending claims the benefit of 02262037', 'applicationNumberText': '59972138', 'filingDate': '01-01-2018', 'childDocumentStatusCode': 'Pending', 'patentNumber': ''}, {'descriptionText': 'which is Pending claims the benefit of 02262037', 'applicationNumberText': '59972144', 'filingDate': '01-01-2018', 'childDocumentStatusCode': 'Pending', 'patentNumber': ''}, {'descriptionText': 'which is Pending claims the benefit of 02262037', 'applicationNumberText': '59972275', 'filingDate': '01-01-2018', 'childDocumentStatusCode': 'Pending', 'patentNumber': ''}, {'descriptionText': 'which is Pending claims the benefit of 02262037', 'applicationNumberText': '59972302', 'filingDate': '01-01-2018', 'childDocumentStatusCode': 'Pending', 'patentNumber': ''}]}}, 'prosecutionHistoryDataBag': {'prosecutionHistoryData': [{'eventDate': '2002-09-13', 'eventCode': 'LFLOST', 'eventDescriptionText': 'File Marked Lost'}, {'eventDate': '2002-01-02', 'eventCode': 'BIG.', 'eventDescriptionText': 'ENTITY STATUS SET TO UNDISCOUNTED (INITIAL DEFAULT SETTING OR STATUS CHANGE)'}, {'eventDate': '2002-01-02', 'eventCode': 'SMAL', 'eventDescriptionText': 'Applicant Has Filed a Verified Statement of Small Entity Status in Compliance with 37 CFR 1.27'}, {'eventDate': '2001-10-31', 'eventCode': 'LOST', 'eventDescriptionText': 'Case Reported Lost'}, {'eventDate': '2001-10-31', 'eventCode': 'SRCH', 'eventDescriptionText': 'Official Search Conducted'}, {'eventDate': '2001-09-20', 'eventCode': 'SETS', 'eventDescriptionText': 'Set Application Status'}]}, 'st96Version': 'V3_1', 'ipoVersion': 'US_V8_0'}]\n"
     ]
    }
   ],
   "source": [
    "import json\n",
    "jsonfile = open('task_assignment.json','r')\n",
    "jsondata = jsonfile.read()\n",
    "# jsondata\n",
    "\n",
    "emp_dict = json.loads(jsondata)\n",
    "for k,v in emp_dict.items():\n",
    "    print('{}:{}'.format(k,v))\n",
    "\n",
    "\n",
    "\n",
    "\n",
    "\n",
    "\n"
   ]
  },
  {
   "cell_type": "code",
   "execution_count": null,
   "id": "generic-brand",
   "metadata": {},
   "outputs": [],
   "source": []
  },
  {
   "cell_type": "code",
   "execution_count": null,
   "id": "other-shape",
   "metadata": {},
   "outputs": [],
   "source": []
  },
  {
   "cell_type": "code",
   "execution_count": null,
   "id": "independent-comedy",
   "metadata": {},
   "outputs": [],
   "source": []
  }
 ],
 "metadata": {
  "kernelspec": {
   "display_name": "Python 3",
   "language": "python",
   "name": "python3"
  },
  "language_info": {
   "codemirror_mode": {
    "name": "ipython",
    "version": 3
   },
   "file_extension": ".py",
   "mimetype": "text/x-python",
   "name": "python",
   "nbconvert_exporter": "python",
   "pygments_lexer": "ipython3",
   "version": "3.8.10"
  }
 },
 "nbformat": 4,
 "nbformat_minor": 5
}
