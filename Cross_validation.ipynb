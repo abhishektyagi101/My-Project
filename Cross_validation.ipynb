{
 "cells": [
  {
   "cell_type": "code",
   "execution_count": 1,
   "metadata": {},
   "outputs": [],
   "source": [
    "from sklearn.datasets import load_iris"
   ]
  },
  {
   "cell_type": "code",
   "execution_count": 2,
   "metadata": {},
   "outputs": [],
   "source": [
    "iris = load_iris()"
   ]
  },
  {
   "cell_type": "code",
   "execution_count": 3,
   "metadata": {},
   "outputs": [],
   "source": [
    "input = iris.data"
   ]
  },
  {
   "cell_type": "code",
   "execution_count": 4,
   "metadata": {},
   "outputs": [],
   "source": [
    "output = iris.target"
   ]
  },
  {
   "cell_type": "code",
   "execution_count": 5,
   "metadata": {},
   "outputs": [],
   "source": [
    "from sklearn.model_selection import KFold"
   ]
  },
  {
   "cell_type": "code",
   "execution_count": 6,
   "metadata": {},
   "outputs": [
    {
     "name": "stdout",
     "output_type": "stream",
     "text": [
      "Train_data          Test_data        \n",
      "[  0   1   2   3   4   5   6   8   9  11  12  13  14  15  17  18  19  20\n",
      "  22  23  24  25  27  29  30  31  32  33  34  35  36  38  39  41  43  44\n",
      "  45  46  47  48  49  51  52  53  54  57  59  60  62  63  64  66  67  68\n",
      "  69  70  71  72  74  77  78  79  80  81  83  84  85  86  88  89  90  91\n",
      "  92  93  94  96  97  99 100 101 102 103 104 106 107 108 110 111 112 113\n",
      " 114 115 116 117 118 119 120 121 123 124 125 126 128 129 130 132 133 134\n",
      " 136 137 138 139 140 141 142 144 145 146 147 148] [  7  10  16  21  26  28  37  40  42  50  55  56  58  61  65  73  75  76\n",
      "  82  87  95  98 105 109 122 127 131 135 143 149]\n",
      "[  1   2   3   4   5   6   7   8   9  10  12  13  15  16  18  19  20  21\n",
      "  22  23  24  25  26  28  29  30  32  33  34  35  36  37  38  39  40  42\n",
      "  43  48  49  50  51  52  53  55  56  58  59  60  61  64  65  66  68  69\n",
      "  70  72  73  74  75  76  78  79  80  82  84  85  87  88  89  90  91  92\n",
      "  93  94  95  96  97  98  99 100 101 102 103 104 105 106 107 108 109 110\n",
      " 111 112 114 115 119 120 121 122 124 125 126 127 129 131 132 133 134 135\n",
      " 136 139 140 141 142 143 144 145 146 147 148 149] [  0  11  14  17  27  31  41  44  45  46  47  54  57  62  63  67  71  77\n",
      "  81  83  86 113 116 117 118 123 128 130 137 138]\n",
      "[  0   2   4   5   7   8   9  10  11  12  13  14  16  17  18  19  20  21\n",
      "  23  25  26  27  28  30  31  32  35  36  37  39  40  41  42  44  45  46\n",
      "  47  48  50  51  53  54  55  56  57  58  59  60  61  62  63  64  65  66\n",
      "  67  68  70  71  72  73  75  76  77  78  79  80  81  82  83  84  85  86\n",
      "  87  88  89  90  91  93  94  95  96  97  98  99 101 103 104 105 106 108\n",
      " 109 110 111 113 116 117 118 119 121 122 123 124 125 127 128 129 130 131\n",
      " 132 134 135 136 137 138 140 143 145 147 148 149] [  1   3   6  15  22  24  29  33  34  38  43  49  52  69  74  92 100 102\n",
      " 107 112 114 115 120 126 133 139 141 142 144 146]\n",
      "[  0   1   2   3   4   6   7   8   9  10  11  13  14  15  16  17  18  20\n",
      "  21  22  24  25  26  27  28  29  31  33  34  37  38  39  40  41  42  43\n",
      "  44  45  46  47  48  49  50  52  53  54  55  56  57  58  59  61  62  63\n",
      "  65  67  69  71  73  74  75  76  77  79  80  81  82  83  84  86  87  89\n",
      "  90  92  93  95  96  98 100 101 102 103 104 105 107 109 111 112 113 114\n",
      " 115 116 117 118 120 121 122 123 124 125 126 127 128 130 131 133 134 135\n",
      " 136 137 138 139 141 142 143 144 145 146 148 149] [  5  12  19  23  30  32  35  36  51  60  64  66  68  70  72  78  85  88\n",
      "  91  94  97  99 106 108 110 119 129 132 140 147]\n",
      "[  0   1   3   5   6   7  10  11  12  14  15  16  17  19  21  22  23  24\n",
      "  26  27  28  29  30  31  32  33  34  35  36  37  38  40  41  42  43  44\n",
      "  45  46  47  49  50  51  52  54  55  56  57  58  60  61  62  63  64  65\n",
      "  66  67  68  69  70  71  72  73  74  75  76  77  78  81  82  83  85  86\n",
      "  87  88  91  92  94  95  97  98  99 100 102 105 106 107 108 109 110 112\n",
      " 113 114 115 116 117 118 119 120 122 123 126 127 128 129 130 131 132 133\n",
      " 135 137 138 139 140 141 142 143 144 146 147 149] [  2   4   8   9  13  18  20  25  39  48  53  59  79  80  84  89  90  93\n",
      "  96 101 103 104 111 121 124 125 134 136 145 148]\n"
     ]
    }
   ],
   "source": [
    "kf = KFold(n_splits=5, shuffle=True)\n",
    "print('Train_data          Test_data        ')\n",
    "for train_set, test_set in kf.split(input):\n",
    "    print(train_set, test_set)"
   ]
  },
  {
   "cell_type": "code",
   "execution_count": 13,
   "metadata": {},
   "outputs": [
    {
     "name": "stdout",
     "output_type": "stream",
     "text": [
      "Accuracy:  96.0\n"
     ]
    }
   ],
   "source": [
    "from sklearn.ensemble import RandomForestClassifier\n",
    "rf_class = RandomForestClassifier(n_estimators=10)\n",
    "from sklearn.model_selection import cross_val_score\n",
    "print('Accuracy: ',cross_val_score(rf_class, input, output, scoring='accuracy', cv=10).mean()*100)"
   ]
  },
  {
   "cell_type": "code",
   "execution_count": null,
   "metadata": {},
   "outputs": [],
   "source": []
  }
 ],
 "metadata": {
  "kernelspec": {
   "display_name": "Python 3",
   "language": "python",
   "name": "python3"
  },
  "language_info": {
   "codemirror_mode": {
    "name": "ipython",
    "version": 3
   },
   "file_extension": ".py",
   "mimetype": "text/x-python",
   "name": "python",
   "nbconvert_exporter": "python",
   "pygments_lexer": "ipython3",
   "version": "3.7.3"
  }
 },
 "nbformat": 4,
 "nbformat_minor": 2
}
