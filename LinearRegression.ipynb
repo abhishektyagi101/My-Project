{
 "cells": [
  {
   "cell_type": "code",
   "execution_count": 1,
   "metadata": {},
   "outputs": [],
   "source": [
    "import numpy as np\n",
    "import tensorflow as tf\n",
    "import matplotlib.pyplot as plt\n",
    "np.random.seed(101)\n",
    "tf.set_random_seed(101)\n",
    "# Generating random linear data\n",
    "# There will be 50 data points ranging from 0 to 50\n",
    "x = np.linspace(0, 50, 50)\n",
    "y = np.linspace(0, 50, 50)\n",
    "# Adding noise to the random linear data\n",
    "x += np.random.uniform(-4, 4, 50)\n",
    "y += np.random.uniform(-4, 4, 50)\n",
    "n = len(x) # Number of data points\n",
    "\n",
    "# Let us visualize the training data\n"
   ]
  },
  {
   "cell_type": "code",
   "execution_count": 2,
   "metadata": {},
   "outputs": [
    {
     "data": {
      "image/png": "[encoded data removed]",
      "text/plain": [
       "<Figure size 432x288 with 1 Axes>"
      ]
     },
     "metadata": {
      "needs_background": "light"
     },
     "output_type": "display_data"
    }
   ],
   "source": [
    "# plotting the training data\n",
    "plt.scatter(x, y)\n",
    "plt.xlabel('x')\n",
    "plt.ylabel('y')\n",
    "plt.title('Training data')\n",
    "plt.show()"
   ]
  },
  {
   "cell_type": "code",
   "execution_count": 4,
   "metadata": {},
   "outputs": [
    {
     "name": "stdout",
     "output_type": "stream",
     "text": [
      "Epoch 50 : cost = 5.2335815 W = 1.0273161 b = -0.33595607\n",
      "Epoch 100 : cost = 5.2369714 W = 1.0268768 b = -0.31447834\n",
      "Epoch 150 : cost = 5.24013 W = 1.0264845 b = -0.2952952\n",
      "Epoch 200 : cost = 5.243056 W = 1.0261341 b = -0.2781603\n",
      "Epoch 250 : cost = 5.2457495 W = 1.0258211 b = -0.26285738\n",
      "Epoch 300 : cost = 5.2482195 W = 1.0255415 b = -0.24918896\n",
      "Epoch 350 : cost = 5.25048 W = 1.0252919 b = -0.2369803\n",
      "Epoch 400 : cost = 5.2525396 W = 1.0250689 b = -0.22607571\n",
      "Epoch 450 : cost = 5.2544127 W = 1.0248697 b = -0.21633609\n",
      "Epoch 500 : cost = 5.256114 W = 1.0246918 b = -0.20763676\n",
      "Epoch 550 : cost = 5.257653 W = 1.0245329 b = -0.19986679\n",
      "Epoch 600 : cost = 5.2590427 W = 1.0243909 b = -0.1929265\n",
      "Epoch 650 : cost = 5.2602997 W = 1.0242641 b = -0.18672739\n",
      "Epoch 700 : cost = 5.261435 W = 1.024151 b = -0.18119085\n",
      "Epoch 750 : cost = 5.2624536 W = 1.0240498 b = -0.17624544\n",
      "Epoch 800 : cost = 5.263374 W = 1.0239595 b = -0.17182831\n",
      "Epoch 850 : cost = 5.2642 W = 1.0238788 b = -0.1678837\n",
      "Epoch 900 : cost = 5.2649403 W = 1.0238067 b = -0.16436012\n",
      "Epoch 950 : cost = 5.265606 W = 1.0237423 b = -0.16121264\n",
      "Epoch 1000 : cost = 5.2662053 W = 1.0236849 b = -0.15840209\n"
     ]
    }
   ],
   "source": [
    "X = tf.placeholder('float')\n",
    "Y = tf.placeholder('float')\n",
    "\n",
    "W = tf.Variable(np.random.randn(), name = 'W')\n",
    "b = tf.Variable(np.random.randn(), name = 'b')\n",
    "learning_rate = 0.01\n",
    "training_epochs = 1000\n",
    "# Hypothesis\n",
    "y_pred = tf.add(tf.multiply(X, W), b)\n",
    "# Mean Squared Error Cost Function\n",
    "cost = tf.reduce_sum(tf.pow(y_pred-Y, 2))/(2*n)\n",
    "# Gradient Descent Optimizer\n",
    "optimizer = tf.train.GradientDescentOptimizer(learning_rate).minimize(cost)\n",
    "# Global Variables Initializer\n",
    "init = tf.global_variables_initializer()\n",
    "# Starting the Tensorflow Session\n",
    "with tf.Session() as sess:\n",
    "    sess.run(init)\n",
    "    # feeding each data point into the optimizer using Feed Dictionary\n",
    "    for epoch in range(training_epochs):\n",
    "        for (_x, _y) in zip(x,y):\n",
    "            sess.run(optimizer, feed_dict = {X: _x, Y : _y})\n",
    "        # Displaying the result after every 50 epochs\n",
    "        if (epoch +1)% 50 == 0:\n",
    "            # calculating the cost a very epoch\n",
    "            c = sess.run(cost, feed_dict = {X : x, Y : y})\n",
    "            print('Epoch', (epoch+1), ': cost =', c, 'W =', sess.run(W), 'b =', sess.run(b))\n",
    "    # storing necessary values to be used outside the session\n",
    "    training_cost = sess.run(cost, feed_dict ={X: x, Y: y})\n",
    "    weight = sess.run(W)\n",
    "    bias = sess.run(b)"
   ]
  },
  {
   "cell_type": "code",
   "execution_count": null,
   "metadata": {},
   "outputs": [],
   "source": []
  }
 ],
 "metadata": {
  "kernelspec": {
   "display_name": "Python 3",
   "language": "python",
   "name": "python3"
  },
  "language_info": {
   "codemirror_mode": {
    "name": "ipython",
    "version": 3
   },
   "file_extension": ".py",
   "mimetype": "text/x-python",
   "name": "python",
   "nbconvert_exporter": "python",
   "pygments_lexer": "ipython3",
   "version": "3.7.3"
  }
 },
 "nbformat": 4,
 "nbformat_minor": 2
}
